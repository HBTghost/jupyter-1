{
 "metadata": {
  "language_info": {
   "codemirror_mode": {
    "name": "ipython",
    "version": 3
   },
   "file_extension": ".py",
   "mimetype": "text/x-python",
   "name": "python",
   "nbconvert_exporter": "python",
   "pygments_lexer": "ipython3",
   "version": "3.7.6-final"
  },
  "orig_nbformat": 2,
  "kernelspec": {
   "name": "python_defaultSpec_1598546078715",
   "display_name": "Python 3.7.6 64-bit ('base': conda)"
  }
 },
 "nbformat": 4,
 "nbformat_minor": 2,
 "cells": [
  {
   "cell_type": "code",
   "execution_count": null,
   "metadata": {
    "tags": []
   },
   "outputs": [],
   "source": [
    "import pandas as pd\n",
    "import numpy as np\n",
    "from sklearn.model_selection import cross_val_score\n",
    "from sklearn import svm\n",
    "\n",
    "class wine:\n",
    "  def __init__(self, filename=\"wine.csv\"):\n",
    "    self.df = pd.read_csv(filename, sep=';')\n",
    "    self.df.fillna(0, inplace=True)\n",
    "    self.df.drop_duplicates(keep=False, inplace=True)\n",
    "\n",
    "    self.B = self.df['quality'].to_numpy()\n",
    "    preA = self.df.drop(['quality'], axis=1)\n",
    "    self.title_A = preA.columns\n",
    "    self.A = preA.to_numpy()\n",
    "\n",
    "  def cross_val_scores(self):\n",
    "    return np.array([\n",
    "      cross_val_score(\n",
    "        svm.SVC(kernel='linear', C=1),\n",
    "        self.A[:, [i]],\n",
    "        self.B,\n",
    "        cv=5\n",
    "      ).mean()\n",
    "      for i in range(self.A.shape[1])\n",
    "    ])\n",
    "\n",
    "  def lireg_all(self):\n",
    "    x = np.linalg.pinv(self.A) @ self.B\n",
    "    return [(self.title_A[i], x[i]) for i in range(len(x))]\n",
    "\n",
    "  def lireg_best(self):\n",
    "    bestA = self.cross_val_scores().argmax(axis=0)\n",
    "    x = np.linalg.pinv(self.A[:, [bestA]]) @ self.B\n",
    "    return self.title_A[bestA], x[0]\n",
    "\n",
    "  def my_lireg(self):\n",
    "    pre_newA = self.df.drop([\n",
    "      'quality',\n",
    "      'residual sugar',\n",
    "      'chlorides',\n",
    "      'free sulfur dioxide',\n",
    "      'density'\n",
    "    ], axis=1)\n",
    "    x = np.linalg.pinv(pre_newA.to_numpy()) @ self.B\n",
    "    return [(pre_newA.columns[i], x[i]) for i in range(len(x))]\n",
    "\n",
    "if __name__ == '__main__':\n",
    "  w = wine()\n",
    "\n",
    "  print ('Cau a. Su dung toan bo 11 dac trung de bai cung cap')\n",
    "  for x in w.lireg_all():\n",
    "    print (x)\n",
    "\n",
    "  print ('Cau b. Su dung duy nhat 1 dac trung cho ket qua tot nhat')\n",
    "  print (w.lireg_best())\n",
    "\n",
    "  print ('Cau c. Su dung mo hinh cua em')\n",
    "  for x in w.my_lireg():\n",
    "    print (\"{}\".format(x))\n"
   ]
  }
 ]
}